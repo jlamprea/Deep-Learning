{
 "cells": [
  {
   "cell_type": "code",
   "execution_count": 40,
   "metadata": {},
   "outputs": [],
   "source": [
    "import numpy as np"
   ]
  },
  {
   "cell_type": "code",
   "execution_count": 1,
   "metadata": {},
   "outputs": [],
   "source": [
    "import tensorflow as tf"
   ]
  },
  {
   "cell_type": "code",
   "execution_count": 2,
   "metadata": {},
   "outputs": [
    {
     "name": "stderr",
     "output_type": "stream",
     "text": [
      "Using TensorFlow backend.\n"
     ]
    }
   ],
   "source": [
    "import keras"
   ]
  },
  {
   "cell_type": "code",
   "execution_count": 3,
   "metadata": {},
   "outputs": [],
   "source": [
    "from keras.datasets import mnist\n",
    "(x_train,y_train),(x_test, y_test)= mnist.load_data()"
   ]
  },
  {
   "cell_type": "code",
   "execution_count": 5,
   "metadata": {},
   "outputs": [
    {
     "data": {
      "image/png": "[encoded data removed]",
      "text/plain": [
       "<Figure size 432x288 with 1 Axes>"
      ]
     },
     "metadata": {
      "needs_background": "light"
     },
     "output_type": "display_data"
    }
   ],
   "source": [
    "import matplotlib.pyplot as plt\n",
    "plt.imshow(x_train[3941],cmap=plt.cm.binary) # cambiando el numero vemos a la imagen que corresponde\n",
    "plt.show()"
   ]
  },
  {
   "cell_type": "code",
   "execution_count": 6,
   "metadata": {},
   "outputs": [
    {
     "data": {
      "text/plain": [
       "(60000, 28, 28)"
      ]
     },
     "execution_count": 6,
     "metadata": {},
     "output_type": "execute_result"
    }
   ],
   "source": [
    "x_train.shape"
   ]
  },
  {
   "cell_type": "code",
   "execution_count": 7,
   "metadata": {},
   "outputs": [
    {
     "name": "stdout",
     "output_type": "stream",
     "text": [
      "3\n"
     ]
    }
   ],
   "source": [
    "print(y_train[3941])"
   ]
  },
  {
   "cell_type": "code",
   "execution_count": 8,
   "metadata": {},
   "outputs": [
    {
     "name": "stdout",
     "output_type": "stream",
     "text": [
      "3\n"
     ]
    }
   ],
   "source": [
    "print(x_train.ndim) # dimensiones del array "
   ]
  },
  {
   "cell_type": "code",
   "execution_count": 9,
   "metadata": {},
   "outputs": [
    {
     "name": "stdout",
     "output_type": "stream",
     "text": [
      "uint8\n"
     ]
    }
   ],
   "source": [
    "print(x_train.dtype)# tipo de datos"
   ]
  },
  {
   "cell_type": "code",
   "execution_count": 10,
   "metadata": {},
   "outputs": [],
   "source": [
    "x_train= x_train.astype('float32')\n",
    "x_test= x_test.astype('float32')\n",
    "x_train= x_train/255\n",
    "x_test= x_test/255"
   ]
  },
  {
   "cell_type": "code",
   "execution_count": 11,
   "metadata": {},
   "outputs": [],
   "source": [
    "x_train= x_train.reshape(60000,784)\n",
    "x_test= x_test.reshape(10000,784)"
   ]
  },
  {
   "cell_type": "code",
   "execution_count": 12,
   "metadata": {},
   "outputs": [
    {
     "data": {
      "text/plain": [
       "((60000, 784), (10000, 784))"
      ]
     },
     "execution_count": 12,
     "metadata": {},
     "output_type": "execute_result"
    }
   ],
   "source": [
    "x_train.shape, x_test.shape"
   ]
  },
  {
   "cell_type": "code",
   "execution_count": 13,
   "metadata": {},
   "outputs": [],
   "source": [
    "from keras.utils import to_categorical"
   ]
  },
  {
   "cell_type": "code",
   "execution_count": 14,
   "metadata": {},
   "outputs": [
    {
     "data": {
      "text/plain": [
       "(60000,)"
      ]
     },
     "execution_count": 14,
     "metadata": {},
     "output_type": "execute_result"
    }
   ],
   "source": [
    "y_train.shape"
   ]
  },
  {
   "cell_type": "code",
   "execution_count": 15,
   "metadata": {},
   "outputs": [],
   "source": [
    "y_train= to_categorical(y_train,num_classes=10) # hace la matriz one-hot encoding para softmax\n",
    "y_test= to_categorical(y_test,num_classes=10)"
   ]
  },
  {
   "cell_type": "code",
   "execution_count": 16,
   "metadata": {},
   "outputs": [
    {
     "data": {
      "text/plain": [
       "(60000, 10)"
      ]
     },
     "execution_count": 16,
     "metadata": {},
     "output_type": "execute_result"
    }
   ],
   "source": [
    "y_train.shape"
   ]
  },
  {
   "cell_type": "code",
   "execution_count": 17,
   "metadata": {},
   "outputs": [
    {
     "name": "stdout",
     "output_type": "stream",
     "text": [
      "[0. 0. 0. 1. 0. 0. 0. 0. 0. 0.]\n"
     ]
    }
   ],
   "source": [
    "print(y_train[3941]) # para ver como quedo el label del numero image  3941 es 3"
   ]
  },
  {
   "cell_type": "code",
   "execution_count": 27,
   "metadata": {},
   "outputs": [
    {
     "name": "stdout",
     "output_type": "stream",
     "text": [
      "<class 'tensorflow.python.framework.ops.Graph'>\n",
      "2.2.4-tf\n",
      "2.0.0-alpha0\n"
     ]
    }
   ],
   "source": [
    "#from tensorflow.keras import backend\n",
    "graph= tf.Graph()\n",
    "print(type(graph))\n",
    "tf.keras.backend.clear_session()\n",
    "print(tf.keras.__version__) \n",
    "print(tf.__version__)\n",
    "\n",
    "from tensorflow.keras import layers\n",
    "\n",
    "\n",
    "\n",
    "model = tf.keras.Sequential() \n",
    "#from tensorflow.keras.models import Sequential  # toco traer de esta forma el modelo de keras. invocando tensorflow\n",
    "#from keras.layers.core import Dense, Activation\n",
    "#from keras.layers.core import Dense, Activation # directo de keras se traen las capas hidden densas y la activacion\n",
    "#model= Sequential()\n",
    "model.add(layers.Dense(10,activation='sigmoid',input_shape=(784,))) # capa hidden de salida 10 entrada 784 \n",
    "model.add(layers.Dense(10,activation='softmax'))\n",
    "# otra forma de hacer las capas es:\n",
    "#model = tf.keras.models.Sequential([\n",
    "#  tf.keras.layers.Flatten(input_shape=(28, 28)),\n",
    "#  tf.keras.layers.Dense(128, activation='relu'),\n",
    "#  tf.keras.layers.Dropout(0.2),\n",
    "#  tf.keras.layers.Dense(10, activation='softmax')\n",
    "#])\n"
   ]
  },
  {
   "cell_type": "code",
   "execution_count": 29,
   "metadata": {},
   "outputs": [
    {
     "name": "stdout",
     "output_type": "stream",
     "text": [
      "Model: \"sequential\"\n",
      "_________________________________________________________________\n",
      "Layer (type)                 Output Shape              Param #   \n",
      "=================================================================\n",
      "dense (Dense)                (None, 10)                7850      \n",
      "_________________________________________________________________\n",
      "dense_1 (Dense)              (None, 10)                110       \n",
      "=================================================================\n",
      "Total params: 7,960\n",
      "Trainable params: 7,960\n",
      "Non-trainable params: 0\n",
      "_________________________________________________________________\n"
     ]
    }
   ],
   "source": [
    "model.summary() # ver como esta formado el modelo NN"
   ]
  },
  {
   "cell_type": "code",
   "execution_count": 52,
   "metadata": {},
   "outputs": [],
   "source": [
    "model.compile(loss='categorical_crossentropy',optimizer=tf.optimizers.Adam(0.001),metrics=['accuracy']) # se cambia por el optimizador adam y mejora la accuracy\n",
    "# el optimizador 'sgd' no da buena accuracy\n",
    "# otra forma de compilar es :\n",
    "#model.compile(optimizer='adam',\n",
    " #             loss='sparse_categorical_crossentropy',\n",
    " #             metrics=['accuracy'])"
   ]
  },
  {
   "cell_type": "code",
   "execution_count": 53,
   "metadata": {},
   "outputs": [
    {
     "name": "stdout",
     "output_type": "stream",
     "text": [
      "Epoch 1/5\n",
      "60000/60000 [==============================] - 1s 25us/sample - loss: 1.4131 - accuracy: 0.6806\n",
      "Epoch 2/5\n",
      "60000/60000 [==============================] - 2s 26us/sample - loss: 0.7429 - accuracy: 0.8527\n",
      "Epoch 3/5\n",
      "60000/60000 [==============================] - 2s 25us/sample - loss: 0.5356 - accuracy: 0.8778\n",
      "Epoch 4/5\n",
      "60000/60000 [==============================] - 2s 25us/sample - loss: 0.4372 - accuracy: 0.8922\n",
      "Epoch 5/5\n",
      "60000/60000 [==============================] - 1s 24us/sample - loss: 0.3804 - accuracy: 0.9014\n"
     ]
    },
    {
     "data": {
      "text/plain": [
       "<tensorflow.python.keras.callbacks.History at 0xb827453f28>"
      ]
     },
     "execution_count": 53,
     "metadata": {},
     "output_type": "execute_result"
    }
   ],
   "source": [
    "model.fit(x_train,y_train,batch_size=100, epochs=5)"
   ]
  },
  {
   "cell_type": "code",
   "execution_count": 54,
   "metadata": {},
   "outputs": [
    {
     "name": "stdout",
     "output_type": "stream",
     "text": [
      "10000/10000 [==============================] - 0s 39us/sample - loss: 0.3586 - accuracy: 0.9026\n"
     ]
    }
   ],
   "source": [
    "test_loss,test_acc= model.evaluate(x_test,y_test)"
   ]
  },
  {
   "cell_type": "code",
   "execution_count": 65,
   "metadata": {},
   "outputs": [
    {
     "data": {
      "text/plain": [
       "<matplotlib.image.AxesImage at 0xb829117d68>"
      ]
     },
     "execution_count": 65,
     "metadata": {},
     "output_type": "execute_result"
    },
    {
     "data": {
      "image/png": "[encoded data removed]",
      "text/plain": [
       "<Figure size 432x288 with 1 Axes>"
      ]
     },
     "metadata": {
      "needs_background": "light"
     },
     "output_type": "display_data"
    }
   ],
   "source": [
    "\n",
    "plt.imshow(x_test[7382].reshape(28,28),cmap=plt.cm.binary) # tener en cuenta hacer reshape antes de graficar, el vector esta plano"
   ]
  },
  {
   "cell_type": "code",
   "execution_count": 56,
   "metadata": {},
   "outputs": [],
   "source": [
    "prediction= model.predict(x_test) # lo hace en todo el vector de test"
   ]
  },
  {
   "cell_type": "code",
   "execution_count": 66,
   "metadata": {},
   "outputs": [
    {
     "data": {
      "text/plain": [
       "9"
      ]
     },
     "execution_count": 66,
     "metadata": {},
     "output_type": "execute_result"
    }
   ],
   "source": [
    "np.argmax(prediction[7382]) # se elige ina posicion de 0 a 10000"
   ]
  },
  {
   "cell_type": "code",
   "execution_count": 67,
   "metadata": {},
   "outputs": [
    {
     "name": "stdout",
     "output_type": "stream",
     "text": [
      "[1.0837645e-04 3.0694569e-03 4.8438724e-04 1.5721112e-02 2.3252297e-02\n",
      " 8.6236363e-03 2.1660175e-04 2.0266945e-02 4.5769266e-03 9.2368025e-01]\n"
     ]
    }
   ],
   "source": [
    "print(prediction[7382]) # para ver la salida softmax"
   ]
  },
  {
   "cell_type": "code",
   "execution_count": null,
   "metadata": {},
   "outputs": [],
   "source": []
  }
 ],
 "metadata": {
  "kernelspec": {
   "display_name": "Python 3",
   "language": "python",
   "name": "python3"
  },
  "language_info": {
   "codemirror_mode": {
    "name": "ipython",
    "version": 3
   },
   "file_extension": ".py",
   "mimetype": "text/x-python",
   "name": "python",
   "nbconvert_exporter": "python",
   "pygments_lexer": "ipython3",
   "version": "3.6.7"
  }
 },
 "nbformat": 4,
 "nbformat_minor": 2
}

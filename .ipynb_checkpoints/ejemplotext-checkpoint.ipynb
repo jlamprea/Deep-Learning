{
 "cells": [
  {
   "cell_type": "code",
   "execution_count": 3,
   "metadata": {},
   "outputs": [
    {
     "name": "stdout",
     "output_type": "stream",
     "text": [
      "2.0.0-alpha0\n"
     ]
    }
   ],
   "source": [
    "import tensorflow as tf\n",
    "from tensorflow import keras\n",
    "import numpy as np\n",
    "print(tf.__version__)"
   ]
  },
  {
   "cell_type": "code",
   "execution_count": 4,
   "metadata": {},
   "outputs": [
    {
     "name": "stdout",
     "output_type": "stream",
     "text": [
      "Downloading data from https://storage.googleapis.com/tensorflow/tf-keras-datasets/imdb.npz\n",
      "17465344/17464789 [==============================] - 27s 2us/step\n"
     ]
    }
   ],
   "source": [
    "imdb= keras.datasets.imdb\n",
    "(train_data,train_labels),(test_data,test_labels)= imdb.load_data(num_words=10000)"
   ]
  },
  {
   "cell_type": "code",
   "execution_count": 5,
   "metadata": {},
   "outputs": [
    {
     "data": {
      "text/plain": [
       "(25000,)"
      ]
     },
     "execution_count": 5,
     "metadata": {},
     "output_type": "execute_result"
    }
   ],
   "source": [
    "train_data.shape"
   ]
  },
  {
   "cell_type": "code",
   "execution_count": 20,
   "metadata": {},
   "outputs": [
    {
     "name": "stdout",
     "output_type": "stream",
     "text": [
      "[1, 194, 1153, 194, 8255, 78, 228, 5, 6, 1463, 4369, 5012, 134, 26, 4, 715, 8, 118, 1634, 14, 394, 20, 13, 119, 954, 189, 102, 5, 207, 110, 3103, 21, 14, 69, 188, 8, 30, 23, 7, 4, 249, 126, 93, 4, 114, 9, 2300, 1523, 5, 647, 4, 116, 9, 35, 8163, 4, 229, 9, 340, 1322, 4, 118, 9, 4, 130, 4901, 19, 4, 1002, 5, 89, 29, 952, 46, 37, 4, 455, 9, 45, 43, 38, 1543, 1905, 398, 4, 1649, 26, 6853, 5, 163, 11, 3215, 2, 4, 1153, 9, 194, 775, 7, 8255, 2, 349, 2637, 148, 605, 2, 8003, 15, 123, 125, 68, 2, 6853, 15, 349, 165, 4362, 98, 5, 4, 228, 9, 43, 2, 1157, 15, 299, 120, 5, 120, 174, 11, 220, 175, 136, 50, 9, 4373, 228, 8255, 5, 2, 656, 245, 2350, 5, 4, 9837, 131, 152, 491, 18, 2, 32, 7464, 1212, 14, 9, 6, 371, 78, 22, 625, 64, 1382, 9, 8, 168, 145, 23, 4, 1690, 15, 16, 4, 1355, 5, 28, 6, 52, 154, 462, 33, 89, 78, 285, 16, 145, 95]\n"
     ]
    }
   ],
   "source": [
    "print(train_data[1])"
   ]
  },
  {
   "cell_type": "code",
   "execution_count": 13,
   "metadata": {},
   "outputs": [
    {
     "data": {
      "text/plain": [
       "(218, 189)"
      ]
     },
     "execution_count": 13,
     "metadata": {},
     "output_type": "execute_result"
    }
   ],
   "source": [
    "len(train_data[0]), len(train_data[1]) # diferente longitud "
   ]
  },
  {
   "cell_type": "code",
   "execution_count": 16,
   "metadata": {},
   "outputs": [],
   "source": [
    "word_index = imdb.get_word_index()\n"
   ]
  },
  {
   "cell_type": "code",
   "execution_count": 17,
   "metadata": {},
   "outputs": [],
   "source": [
    "word_index= {k:(v+3) for k,v in word_index.items()}\n",
    "word_index[\"<PAD>\"]=0\n",
    "word_index[\"<START>\"]=1\n",
    "word_index[\"<UNK>\"]=2\n",
    "word_index[\"UNUSED\"]=3\n",
    "reserve_word_index = dict([(value, key) for (key, value) in word_index.items()])\n",
    "\n",
    "def decode_review(text): # convierte de numeros por palabra a letras en el diccionario\n",
    "    return ' '.join([reserve_word_index.get(i,\"?\") for i in text])\n",
    "\n"
   ]
  },
  {
   "cell_type": "code",
   "execution_count": 19,
   "metadata": {},
   "outputs": [
    {
     "data": {
      "text/plain": [
       "\"<START> big hair big boobs bad music and a giant safety pin these are the words to best describe this terrible movie i love cheesy horror movies and i've seen hundreds but this had got to be on of the worst ever made the plot is paper thin and ridiculous the acting is an abomination the script is completely laughable the best is the end showdown with the cop and how he worked out who the killer is it's just so damn terribly written the clothes are sickening and funny in equal <UNK> the hair is big lots of boobs <UNK> men wear those cut <UNK> shirts that show off their <UNK> sickening that men actually wore them and the music is just <UNK> trash that plays over and over again in almost every scene there is trashy music boobs and <UNK> taking away bodies and the gym still doesn't close for <UNK> all joking aside this is a truly bad film whose only charm is to look back on the disaster that was the 80's and have a good old laugh at how bad everything was back then\""
      ]
     },
     "execution_count": 19,
     "metadata": {},
     "output_type": "execute_result"
    }
   ],
   "source": [
    "decode_review(train_data[1])"
   ]
  },
  {
   "cell_type": "code",
   "execution_count": 21,
   "metadata": {},
   "outputs": [],
   "source": [
    "# para estandarizar la longitud de train a 256 caracteres lo rellena con 0s\n",
    "train_data= keras.preprocessing.sequence.pad_sequences(train_data,value=word_index[\"<PAD>\"],padding='post',maxlen=256)\n",
    "test_data= keras.preprocessing.sequence.pad_sequences(test_data,value= word_index[\"<PAD>\"],padding='post',maxlen=256)"
   ]
  },
  {
   "cell_type": "code",
   "execution_count": 22,
   "metadata": {},
   "outputs": [
    {
     "data": {
      "text/plain": [
       "256"
      ]
     },
     "execution_count": 22,
     "metadata": {},
     "output_type": "execute_result"
    }
   ],
   "source": [
    "len(train_data[0]) "
   ]
  },
  {
   "cell_type": "code",
   "execution_count": 24,
   "metadata": {},
   "outputs": [
    {
     "data": {
      "text/plain": [
       "(256, 256)"
      ]
     },
     "execution_count": 24,
     "metadata": {},
     "output_type": "execute_result"
    }
   ],
   "source": [
    "len(train_data[1]), len(train_data[234])"
   ]
  },
  {
   "cell_type": "code",
   "execution_count": 25,
   "metadata": {},
   "outputs": [
    {
     "name": "stdout",
     "output_type": "stream",
     "text": [
      "[   1   14   22   16   43  530  973 1622 1385   65  458 4468   66 3941\n",
      "    4  173   36  256    5   25  100   43  838  112   50  670    2    9\n",
      "   35  480  284    5  150    4  172  112  167    2  336  385   39    4\n",
      "  172 4536 1111   17  546   38   13  447    4  192   50   16    6  147\n",
      " 2025   19   14   22    4 1920 4613  469    4   22   71   87   12   16\n",
      "   43  530   38   76   15   13 1247    4   22   17  515   17   12   16\n",
      "  626   18    2    5   62  386   12    8  316    8  106    5    4 2223\n",
      " 5244   16  480   66 3785   33    4  130   12   16   38  619    5   25\n",
      "  124   51   36  135   48   25 1415   33    6   22   12  215   28   77\n",
      "   52    5   14  407   16   82    2    8    4  107  117 5952   15  256\n",
      "    4    2    7 3766    5  723   36   71   43  530  476   26  400  317\n",
      "   46    7    4    2 1029   13  104   88    4  381   15  297   98   32\n",
      " 2071   56   26  141    6  194 7486   18    4  226   22   21  134  476\n",
      "   26  480    5  144   30 5535   18   51   36   28  224   92   25  104\n",
      "    4  226   65   16   38 1334   88   12   16  283    5   16 4472  113\n",
      "  103   32   15   16 5345   19  178   32    0    0    0    0    0    0\n",
      "    0    0    0    0    0    0    0    0    0    0    0    0    0    0\n",
      "    0    0    0    0    0    0    0    0    0    0    0    0    0    0\n",
      "    0    0    0    0]\n"
     ]
    }
   ],
   "source": [
    "print(train_data[0])"
   ]
  },
  {
   "cell_type": "code",
   "execution_count": 27,
   "metadata": {},
   "outputs": [
    {
     "name": "stdout",
     "output_type": "stream",
     "text": [
      "Model: \"sequential_1\"\n",
      "_________________________________________________________________\n",
      "Layer (type)                 Output Shape              Param #   \n",
      "=================================================================\n",
      "embedding_1 (Embedding)      (None, None, 16)          160000    \n",
      "_________________________________________________________________\n",
      "global_average_pooling1d_1 ( (None, 16)                0         \n",
      "_________________________________________________________________\n",
      "dense (Dense)                (None, 16)                272       \n",
      "_________________________________________________________________\n",
      "dense_1 (Dense)              (None, 1)                 17        \n",
      "=================================================================\n",
      "Total params: 160,289\n",
      "Trainable params: 160,289\n",
      "Non-trainable params: 0\n",
      "_________________________________________________________________\n"
     ]
    }
   ],
   "source": [
    "vocab_size= 10000 # cantida de palabras por cada review.\n",
    "model= keras.Sequential()\n",
    "model.add(keras.layers.Embedding(vocab_size,16))\n",
    "model.add(keras.layers.GlobalAveragePooling1D())\n",
    "model.add(keras.layers.Dense(16,activation='relu'))\n",
    "model.add(keras.layers.Dense(1,activation='sigmoid'))\n",
    "model.summary()"
   ]
  },
  {
   "cell_type": "code",
   "execution_count": 28,
   "metadata": {},
   "outputs": [],
   "source": [
    "model.compile(optimizer='adam',loss='binary_crossentropy',metrics=['accuracy'])"
   ]
  },
  {
   "cell_type": "code",
   "execution_count": 29,
   "metadata": {},
   "outputs": [],
   "source": [
    "# se divide el train set para hacer el cross validation\n",
    "x_val= train_data[:10000]\n",
    "partial_x_train= train_data[10000:]\n",
    "y_val=train_labels[:10000]\n",
    "partial_y_train= train_labels[10000:]"
   ]
  },
  {
   "cell_type": "code",
   "execution_count": 30,
   "metadata": {},
   "outputs": [
    {
     "name": "stdout",
     "output_type": "stream",
     "text": [
      "Train on 15000 samples, validate on 10000 samples\n",
      "Epoch 1/40\n",
      "15000/15000 [==============================] - 3s 175us/sample - loss: 0.6917 - accuracy: 0.5591 - val_loss: 0.6898 - val_accuracy: 0.5815\n",
      "Epoch 2/40\n",
      "15000/15000 [==============================] - 1s 86us/sample - loss: 0.6853 - accuracy: 0.6637 - val_loss: 0.6800 - val_accuracy: 0.6814\n",
      "Epoch 3/40\n",
      "15000/15000 [==============================] - 1s 86us/sample - loss: 0.6687 - accuracy: 0.7253 - val_loss: 0.6593 - val_accuracy: 0.7521\n",
      "Epoch 4/40\n",
      "15000/15000 [==============================] - 1s 86us/sample - loss: 0.6409 - accuracy: 0.7587 - val_loss: 0.6284 - val_accuracy: 0.7724\n",
      "Epoch 5/40\n",
      "15000/15000 [==============================] - 1s 93us/sample - loss: 0.6017 - accuracy: 0.7953 - val_loss: 0.5886 - val_accuracy: 0.7945\n",
      "Epoch 6/40\n",
      "15000/15000 [==============================] - 1s 89us/sample - loss: 0.5542 - accuracy: 0.8227 - val_loss: 0.5442 - val_accuracy: 0.8083\n",
      "Epoch 7/40\n",
      "15000/15000 [==============================] - 1s 88us/sample - loss: 0.5036 - accuracy: 0.8393 - val_loss: 0.4976 - val_accuracy: 0.8289\n",
      "Epoch 8/40\n",
      "15000/15000 [==============================] - 1s 91us/sample - loss: 0.4549 - accuracy: 0.8565 - val_loss: 0.4565 - val_accuracy: 0.8418\n",
      "Epoch 9/40\n",
      "15000/15000 [==============================] - 1s 89us/sample - loss: 0.4113 - accuracy: 0.8697 - val_loss: 0.4212 - val_accuracy: 0.8500\n",
      "Epoch 10/40\n",
      "15000/15000 [==============================] - 1s 96us/sample - loss: 0.3738 - accuracy: 0.8809 - val_loss: 0.3929 - val_accuracy: 0.8559\n",
      "Epoch 11/40\n",
      "15000/15000 [==============================] - 2s 100us/sample - loss: 0.3425 - accuracy: 0.8887 - val_loss: 0.3700 - val_accuracy: 0.8643\n",
      "Epoch 12/40\n",
      "15000/15000 [==============================] - 1s 98us/sample - loss: 0.3164 - accuracy: 0.8957 - val_loss: 0.3527 - val_accuracy: 0.8677\n",
      "Epoch 13/40\n",
      "15000/15000 [==============================] - ETA: 0s - loss: 0.2938 - accuracy: 0.90 - 1s 94us/sample - loss: 0.2949 - accuracy: 0.9015 - val_loss: 0.3376 - val_accuracy: 0.8734\n",
      "Epoch 14/40\n",
      "15000/15000 [==============================] - 1s 88us/sample - loss: 0.2755 - accuracy: 0.9079 - val_loss: 0.3265 - val_accuracy: 0.8764\n",
      "Epoch 15/40\n",
      "15000/15000 [==============================] - 1s 88us/sample - loss: 0.2593 - accuracy: 0.9118 - val_loss: 0.3173 - val_accuracy: 0.8770\n",
      "Epoch 16/40\n",
      "15000/15000 [==============================] - 2s 101us/sample - loss: 0.2446 - accuracy: 0.9177 - val_loss: 0.3100 - val_accuracy: 0.8778\n",
      "Epoch 17/40\n",
      "15000/15000 [==============================] - 1s 94us/sample - loss: 0.2310 - accuracy: 0.9221 - val_loss: 0.3039 - val_accuracy: 0.8806\n",
      "Epoch 18/40\n",
      "15000/15000 [==============================] - 1s 88us/sample - loss: 0.2189 - accuracy: 0.9257 - val_loss: 0.2989 - val_accuracy: 0.8834\n",
      "Epoch 19/40\n",
      "15000/15000 [==============================] - 1s 93us/sample - loss: 0.2080 - accuracy: 0.9285 - val_loss: 0.2947 - val_accuracy: 0.8838\n",
      "Epoch 20/40\n",
      "15000/15000 [==============================] - 1s 89us/sample - loss: 0.1982 - accuracy: 0.9331 - val_loss: 0.2921 - val_accuracy: 0.8846\n",
      "Epoch 21/40\n",
      "15000/15000 [==============================] - 2s 102us/sample - loss: 0.1879 - accuracy: 0.9392 - val_loss: 0.2898 - val_accuracy: 0.8849\n",
      "Epoch 22/40\n",
      "15000/15000 [==============================] - 2s 103us/sample - loss: 0.1795 - accuracy: 0.9416 - val_loss: 0.2879 - val_accuracy: 0.8851\n",
      "Epoch 23/40\n",
      "15000/15000 [==============================] - 2s 108us/sample - loss: 0.1711 - accuracy: 0.9458 - val_loss: 0.2877 - val_accuracy: 0.8840\n",
      "Epoch 24/40\n",
      "15000/15000 [==============================] - 2s 107us/sample - loss: 0.1637 - accuracy: 0.9478 - val_loss: 0.2872 - val_accuracy: 0.8849\n",
      "Epoch 25/40\n",
      "15000/15000 [==============================] - 2s 101us/sample - loss: 0.1562 - accuracy: 0.9517 - val_loss: 0.2862 - val_accuracy: 0.8867\n",
      "Epoch 26/40\n",
      "15000/15000 [==============================] - 1s 90us/sample - loss: 0.1494 - accuracy: 0.9541 - val_loss: 0.2877 - val_accuracy: 0.8845\n",
      "Epoch 27/40\n",
      "15000/15000 [==============================] - 1s 90us/sample - loss: 0.1431 - accuracy: 0.9563 - val_loss: 0.2878 - val_accuracy: 0.8860\n",
      "Epoch 28/40\n",
      "15000/15000 [==============================] - 1s 90us/sample - loss: 0.1370 - accuracy: 0.9585 - val_loss: 0.2896 - val_accuracy: 0.8857\n",
      "Epoch 29/40\n",
      "15000/15000 [==============================] - 1s 89us/sample - loss: 0.1316 - accuracy: 0.9613 - val_loss: 0.2912 - val_accuracy: 0.8846\n",
      "Epoch 30/40\n",
      "15000/15000 [==============================] - 1s 88us/sample - loss: 0.1259 - accuracy: 0.9639 - val_loss: 0.2917 - val_accuracy: 0.8852\n",
      "Epoch 31/40\n",
      "15000/15000 [==============================] - 1s 88us/sample - loss: 0.1201 - accuracy: 0.9660 - val_loss: 0.2933 - val_accuracy: 0.8860\n",
      "Epoch 32/40\n",
      "15000/15000 [==============================] - 1s 93us/sample - loss: 0.1152 - accuracy: 0.9689 - val_loss: 0.2955 - val_accuracy: 0.8849\n",
      "Epoch 33/40\n",
      "15000/15000 [==============================] - 2s 114us/sample - loss: 0.1103 - accuracy: 0.9698 - val_loss: 0.2985 - val_accuracy: 0.8839\n",
      "Epoch 34/40\n",
      "15000/15000 [==============================] - 2s 102us/sample - loss: 0.1059 - accuracy: 0.9710 - val_loss: 0.3018 - val_accuracy: 0.8847\n",
      "Epoch 35/40\n",
      "15000/15000 [==============================] - 2s 113us/sample - loss: 0.1016 - accuracy: 0.9726 - val_loss: 0.3047 - val_accuracy: 0.8837\n",
      "Epoch 36/40\n",
      "15000/15000 [==============================] - 1s 89us/sample - loss: 0.0975 - accuracy: 0.9739 - val_loss: 0.3070 - val_accuracy: 0.8830\n",
      "Epoch 37/40\n",
      "15000/15000 [==============================] - 1s 89us/sample - loss: 0.0932 - accuracy: 0.9753 - val_loss: 0.3105 - val_accuracy: 0.8834\n",
      "Epoch 38/40\n",
      "15000/15000 [==============================] - 1s 90us/sample - loss: 0.0894 - accuracy: 0.9775 - val_loss: 0.3149 - val_accuracy: 0.8817\n",
      "Epoch 39/40\n",
      "15000/15000 [==============================] - 1s 91us/sample - loss: 0.0863 - accuracy: 0.9782 - val_loss: 0.3198 - val_accuracy: 0.8812\n",
      "Epoch 40/40\n",
      "15000/15000 [==============================] - 2s 103us/sample - loss: 0.0821 - accuracy: 0.9804 - val_loss: 0.3233 - val_accuracy: 0.8815\n"
     ]
    }
   ],
   "source": [
    "history= model.fit(partial_x_train,partial_y_train,epochs=40, batch_size=512,validation_data=(x_val,y_val),verbose=1)\n",
    "# este history tiene todo losvalores del entrenamiento loss y accuracy"
   ]
  },
  {
   "cell_type": "code",
   "execution_count": 31,
   "metadata": {},
   "outputs": [
    {
     "name": "stdout",
     "output_type": "stream",
     "text": [
      "25000/25000 [==============================] - 1s 30us/sample - loss: 0.3458 - accuracy: 0.8689\n"
     ]
    }
   ],
   "source": [
    "results = model.evaluate(test_data, test_labels)# trae el loss y accuracy, tiene overfitting"
   ]
  },
  {
   "cell_type": "code",
   "execution_count": 33,
   "metadata": {},
   "outputs": [
    {
     "data": {
      "text/plain": [
       "dict_keys(['loss', 'accuracy', 'val_loss', 'val_accuracy'])"
      ]
     },
     "execution_count": 33,
     "metadata": {},
     "output_type": "execute_result"
    }
   ],
   "source": [
    "history_dict= history.history # valores durante el entrenamiento\n",
    "history_dict.keys()"
   ]
  },
  {
   "cell_type": "code",
   "execution_count": 37,
   "metadata": {},
   "outputs": [
    {
     "data": {
      "image/png": "[encoded data removed]",
      "text/plain": [
       "<Figure size 432x288 with 1 Axes>"
      ]
     },
     "metadata": {
      "needs_background": "light"
     },
     "output_type": "display_data"
    }
   ],
   "source": [
    "import matplotlib.pyplot as plt\n",
    "acc= history_dict['accuracy']\n",
    "val_acc= history_dict['val_accuracy']\n",
    "loss=history_dict['loss']\n",
    "val_loss= history_dict['val_loss']\n",
    "epochs = range(1,len(acc)+1)\n",
    "\n",
    "plt.clf() # limpia figura\n",
    "plt.plot(epochs,loss,'bo',label='training loss')\n",
    "plt.plot(epochs,val_loss,'r', label='validation loss')\n",
    "plt.title('Trainig and evaluation loss')\n",
    "plt.xlabel('Epochs')\n",
    "plt.ylabel('loss')\n",
    "plt.legend()\n",
    "plt.show()"
   ]
  },
  {
   "cell_type": "code",
   "execution_count": 38,
   "metadata": {},
   "outputs": [
    {
     "data": {
      "image/png": "[encoded data removed]",
      "text/plain": [
       "<Figure size 432x288 with 1 Axes>"
      ]
     },
     "metadata": {
      "needs_background": "light"
     },
     "output_type": "display_data"
    }
   ],
   "source": [
    "plt.clf()   # clear figure\n",
    "\n",
    "plt.plot(epochs, acc, 'bo', label='Training acc')\n",
    "plt.plot(epochs, val_acc, 'r', label='Validation acc')\n",
    "plt.title('Training and validation accuracy')\n",
    "plt.xlabel('Epochs')\n",
    "plt.ylabel('Accuracy')\n",
    "plt.legend()\n",
    "\n",
    "plt.show()"
   ]
  },
  {
   "cell_type": "code",
   "execution_count": null,
   "metadata": {},
   "outputs": [],
   "source": []
  }
 ],
 "metadata": {
  "kernelspec": {
   "display_name": "Python 3",
   "language": "python",
   "name": "python3"
  },
  "language_info": {
   "codemirror_mode": {
    "name": "ipython",
    "version": 3
   },
   "file_extension": ".py",
   "mimetype": "text/x-python",
   "name": "python",
   "nbconvert_exporter": "python",
   "pygments_lexer": "ipython3",
   "version": "3.6.7"
  }
 },
 "nbformat": 4,
 "nbformat_minor": 2
}

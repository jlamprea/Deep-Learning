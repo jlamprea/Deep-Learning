{
 "cells": [
  {
   "cell_type": "code",
   "execution_count": 1,
   "metadata": {},
   "outputs": [],
   "source": [
    "#salvar un modelo. se puede dejar donde estaba al entrenar y seguir donde estaba y compartirlo"
   ]
  },
  {
   "cell_type": "code",
   "execution_count": 2,
   "metadata": {},
   "outputs": [],
   "source": [
    "from __future__ import absolute_import, division, print_function, unicode_literals"
   ]
  },
  {
   "cell_type": "code",
   "execution_count": 3,
   "metadata": {},
   "outputs": [],
   "source": [
    "import os\n",
    "import tensorflow as tf\n",
    "from tensorflow import keras"
   ]
  },
  {
   "cell_type": "code",
   "execution_count": 4,
   "metadata": {},
   "outputs": [],
   "source": [
    "(train_images, train_labels), (test_images, test_labels) = tf.keras.datasets.mnist.load_data()\n",
    "train_labels = train_labels[:1000]\n",
    "test_labels = test_labels[:1000]\n",
    "train_images = train_images[:1000].reshape(-1, 28 * 28) / 255.0\n",
    "test_images = test_images[:1000].reshape(-1, 28 * 28) / 255.0 # normalizan solo las 1000 primeras"
   ]
  },
  {
   "cell_type": "code",
   "execution_count": 5,
   "metadata": {},
   "outputs": [],
   "source": [
    "def create_model():\n",
    "    model = tf.keras.models.Sequential([\n",
    "    keras.layers.Dense(512, activation='relu', input_shape=(784,)),\n",
    "    keras.layers.Dropout(0.2),\n",
    "    keras.layers.Dense(10, activation='softmax')])\n",
    "    model.compile(optimizer='adam', \n",
    "                loss='sparse_categorical_crossentropy',\n",
    "                metrics=['accuracy'])\n",
    "    return model"
   ]
  },
  {
   "cell_type": "code",
   "execution_count": 6,
   "metadata": {},
   "outputs": [
    {
     "name": "stdout",
     "output_type": "stream",
     "text": [
      "Model: \"sequential\"\n",
      "_________________________________________________________________\n",
      "Layer (type)                 Output Shape              Param #   \n",
      "=================================================================\n",
      "dense (Dense)                (None, 512)               401920    \n",
      "_________________________________________________________________\n",
      "dropout (Dropout)            (None, 512)               0         \n",
      "_________________________________________________________________\n",
      "dense_1 (Dense)              (None, 10)                5130      \n",
      "=================================================================\n",
      "Total params: 407,050\n",
      "Trainable params: 407,050\n",
      "Non-trainable params: 0\n",
      "_________________________________________________________________\n"
     ]
    }
   ],
   "source": [
    "model = create_model()\n",
    "model.summary()"
   ]
  },
  {
   "cell_type": "code",
   "execution_count": 7,
   "metadata": {},
   "outputs": [],
   "source": [
    "checkpoint_path = \"training_1/cp.ckpt\"\n",
    "checkpoint_dir = os.path.dirname(checkpoint_path)\n",
    "cp_callback = tf.keras.callbacks.ModelCheckpoint(checkpoint_path, \n",
    "                                                 save_weights_only=True,\n",
    "                                                 verbose=1) # primero se crea para luego utilizarlo en el fit\n",
    "model = create_model()\n"
   ]
  },
  {
   "cell_type": "code",
   "execution_count": 8,
   "metadata": {},
   "outputs": [
    {
     "name": "stdout",
     "output_type": "stream",
     "text": [
      "Train on 1000 samples, validate on 1000 samples\n",
      "Epoch 1/10\n",
      " 992/1000 [============================>.] - ETA: 0s - loss: 1.1519 - accuracy: 0.6653\n",
      "Epoch 00001: saving model to training_1/cp.ckpt\n",
      "1000/1000 [==============================] - 1s 1ms/sample - loss: 1.1520 - accuracy: 0.6650 - val_loss: 0.7075 - val_accuracy: 0.7750\n",
      "Epoch 2/10\n",
      " 928/1000 [==========================>...] - ETA: 0s - loss: 0.4348 - accuracy: 0.8761\n",
      "Epoch 00002: saving model to training_1/cp.ckpt\n",
      "1000/1000 [==============================] - 1s 624us/sample - loss: 0.4210 - accuracy: 0.8820 - val_loss: 0.5288 - val_accuracy: 0.8390\n",
      "Epoch 3/10\n",
      " 928/1000 [==========================>...] - ETA: 0s - loss: 0.2955 - accuracy: 0.9095\n",
      "Epoch 00003: saving model to training_1/cp.ckpt\n",
      "1000/1000 [==============================] - 1s 565us/sample - loss: 0.2893 - accuracy: 0.9140 - val_loss: 0.4642 - val_accuracy: 0.8550\n",
      "Epoch 4/10\n",
      " 864/1000 [========================>.....] - ETA: 0s - loss: 0.2188 - accuracy: 0.9468\n",
      "Epoch 00004: saving model to training_1/cp.ckpt\n",
      "1000/1000 [==============================] - 1s 586us/sample - loss: 0.2120 - accuracy: 0.9500 - val_loss: 0.4381 - val_accuracy: 0.8540\n",
      "Epoch 5/10\n",
      " 960/1000 [===========================>..] - ETA: 0s - loss: 0.1480 - accuracy: 0.9719\n",
      "Epoch 00005: saving model to training_1/cp.ckpt\n",
      "1000/1000 [==============================] - 1s 588us/sample - loss: 0.1450 - accuracy: 0.9730 - val_loss: 0.4330 - val_accuracy: 0.8620\n",
      "Epoch 6/10\n",
      " 896/1000 [=========================>....] - ETA: 0s - loss: 0.1205 - accuracy: 0.9788\n",
      "Epoch 00006: saving model to training_1/cp.ckpt\n",
      "1000/1000 [==============================] - 1s 561us/sample - loss: 0.1205 - accuracy: 0.9780 - val_loss: 0.3953 - val_accuracy: 0.8740\n",
      "Epoch 7/10\n",
      " 864/1000 [========================>.....] - ETA: 0s - loss: 0.0889 - accuracy: 0.9850\n",
      "Epoch 00007: saving model to training_1/cp.ckpt\n",
      "1000/1000 [==============================] - 1s 848us/sample - loss: 0.0872 - accuracy: 0.9860 - val_loss: 0.3937 - val_accuracy: 0.8720\n",
      "Epoch 8/10\n",
      " 896/1000 [=========================>....] - ETA: 0s - loss: 0.0611 - accuracy: 0.9955\n",
      "Epoch 00008: saving model to training_1/cp.ckpt\n",
      "1000/1000 [==============================] - 1s 689us/sample - loss: 0.0635 - accuracy: 0.9940 - val_loss: 0.4017 - val_accuracy: 0.8680\n",
      "Epoch 9/10\n",
      " 960/1000 [===========================>..] - ETA: 0s - loss: 0.0483 - accuracy: 0.9990\n",
      "Epoch 00009: saving model to training_1/cp.ckpt\n",
      "1000/1000 [==============================] - 1s 623us/sample - loss: 0.0484 - accuracy: 0.9990 - val_loss: 0.4030 - val_accuracy: 0.8700\n",
      "Epoch 10/10\n",
      " 896/1000 [=========================>....] - ETA: 0s - loss: 0.0367 - accuracy: 0.9989\n",
      "Epoch 00010: saving model to training_1/cp.ckpt\n",
      "1000/1000 [==============================] - 1s 689us/sample - loss: 0.0370 - accuracy: 0.9990 - val_loss: 0.3872 - val_accuracy: 0.8800\n"
     ]
    },
    {
     "data": {
      "text/plain": [
       "<tensorflow.python.keras.callbacks.History at 0x734586b38>"
      ]
     },
     "execution_count": 8,
     "metadata": {},
     "output_type": "execute_result"
    }
   ],
   "source": [
    "model.fit(train_images, train_labels,  epochs = 10, \n",
    "          validation_data = (test_images,test_labels),\n",
    "          callbacks = [cp_callback]) # cada vez que hace un epoch salva los pesos"
   ]
  },
  {
   "cell_type": "code",
   "execution_count": 10,
   "metadata": {},
   "outputs": [
    {
     "name": "stdout",
     "output_type": "stream",
     "text": [
      "1000/1000 [==============================] - 0s 176us/sample - loss: 2.3342 - accuracy: 0.1170\n",
      "Untrained model, accuracy: 11.70%\n"
     ]
    }
   ],
   "source": [
    "model = create_model()\n",
    "loss, acc = model.evaluate(test_images, test_labels)\n",
    "print(\"Untrained model, accuracy: {:5.2f}%\".format(100*acc))"
   ]
  },
  {
   "cell_type": "code",
   "execution_count": 11,
   "metadata": {},
   "outputs": [
    {
     "name": "stdout",
     "output_type": "stream",
     "text": [
      "1000/1000 [==============================] - 0s 96us/sample - loss: 0.3872 - accuracy: 0.8800\n"
     ]
    }
   ],
   "source": [
    "# cargamos  los pesos de un modelo entrenado al modelo nuevo\n",
    "model.load_weights(checkpoint_path)\n",
    "loss,acc = model.evaluate(test_images, test_labels)"
   ]
  },
  {
   "cell_type": "code",
   "execution_count": 12,
   "metadata": {},
   "outputs": [
    {
     "name": "stdout",
     "output_type": "stream",
     "text": [
      "\n",
      "Epoch 00005: saving model to training_2/cp-0005.ckpt\n",
      "\n",
      "Epoch 00010: saving model to training_2/cp-0010.ckpt\n",
      "\n",
      "Epoch 00015: saving model to training_2/cp-0015.ckpt\n",
      "\n",
      "Epoch 00020: saving model to training_2/cp-0020.ckpt\n",
      "\n",
      "Epoch 00025: saving model to training_2/cp-0025.ckpt\n",
      "\n",
      "Epoch 00030: saving model to training_2/cp-0030.ckpt\n",
      "\n",
      "Epoch 00035: saving model to training_2/cp-0035.ckpt\n",
      "\n",
      "Epoch 00040: saving model to training_2/cp-0040.ckpt\n",
      "\n",
      "Epoch 00045: saving model to training_2/cp-0045.ckpt\n",
      "\n",
      "Epoch 00050: saving model to training_2/cp-0050.ckpt\n"
     ]
    },
    {
     "data": {
      "text/plain": [
       "<tensorflow.python.keras.callbacks.History at 0x73a7ee710>"
      ]
     },
     "execution_count": 12,
     "metadata": {},
     "output_type": "execute_result"
    }
   ],
   "source": [
    "checkpoint_path = \"training_2/cp-{epoch:04d}.ckpt\" # salva el modelo por epocas en distinto archivos\n",
    "checkpoint_dir = os.path.dirname(checkpoint_path)\n",
    "cp_callback = tf.keras.callbacks.ModelCheckpoint(\n",
    "    checkpoint_path, verbose=1, save_weights_only=True,\n",
    "    # Save weights, every 5-epochs.\n",
    "    period=5)\n",
    "model = create_model()\n",
    "model.save_weights(checkpoint_path.format(epoch=0))\n",
    "model.fit(train_images, train_labels,\n",
    "          epochs = 50, callbacks = [cp_callback],\n",
    "          validation_data = (test_images,test_labels),\n",
    "          verbose=0)"
   ]
  },
  {
   "cell_type": "code",
   "execution_count": 14,
   "metadata": {},
   "outputs": [
    {
     "name": "stdout",
     "output_type": "stream",
     "text": [
      "1000/1000 [==============================] - 0s 145us/sample - loss: 0.4972 - accuracy: 0.8730\n",
      "Restored model, accuracy: 87.30%\n"
     ]
    }
   ],
   "source": [
    "model = create_model()\n",
    "latest = tf.train.latest_checkpoint(checkpoint_dir) # carga el ultimo archivo creado con los pesos. escoge el ultimo\n",
    "model.load_weights(latest)\n",
    "loss, acc = model.evaluate(test_images, test_labels)\n",
    "print(\"Restored model, accuracy: {:5.2f}%\".format(100*acc))"
   ]
  },
  {
   "cell_type": "code",
   "execution_count": 15,
   "metadata": {},
   "outputs": [
    {
     "name": "stdout",
     "output_type": "stream",
     "text": [
      "1000/1000 [==============================] - 0s 150us/sample - loss: 0.4972 - accuracy: 0.8730\n",
      "Restored model, accuracy: 87.30%\n"
     ]
    }
   ],
   "source": [
    "# salvando los pesos manualmente\n",
    "model.save_weights('./checkpoints/my_checkpoint') # si no esta creada la carpeta, el la crea\n",
    "model = create_model()\n",
    "model.load_weights('./checkpoints/my_checkpoint')\n",
    "\n",
    "loss,acc = model.evaluate(test_images, test_labels)\n",
    "print(\"Restored model, accuracy: {:5.2f}%\".format(100*acc))"
   ]
  },
  {
   "cell_type": "code",
   "execution_count": 16,
   "metadata": {},
   "outputs": [
    {
     "name": "stdout",
     "output_type": "stream",
     "text": [
      "Epoch 1/5\n",
      "1000/1000 [==============================] - 0s 340us/sample - loss: 1.1349 - accuracy: 0.6830\n",
      "Epoch 2/5\n",
      "1000/1000 [==============================] - 0s 220us/sample - loss: 0.4203 - accuracy: 0.8860\n",
      "Epoch 3/5\n",
      "1000/1000 [==============================] - 0s 222us/sample - loss: 0.2991 - accuracy: 0.9210\n",
      "Epoch 4/5\n",
      "1000/1000 [==============================] - 0s 220us/sample - loss: 0.2129 - accuracy: 0.9490\n",
      "Epoch 5/5\n",
      "1000/1000 [==============================] - 0s 221us/sample - loss: 0.1519 - accuracy: 0.9620\n"
     ]
    }
   ],
   "source": [
    "# se puede salvar el modelo completo con pesos, variables y la configuracion en un archivo HDF5 .h5 y recuperarlo para \n",
    "# tensorflow lite por ejemplo\n",
    "model = create_model()\n",
    "model.fit(train_images, train_labels, epochs=5)\n",
    "model.save('my_model.h5')"
   ]
  },
  {
   "cell_type": "code",
   "execution_count": 18,
   "metadata": {},
   "outputs": [
    {
     "name": "stdout",
     "output_type": "stream",
     "text": [
      "Model: \"sequential_7\"\n",
      "_________________________________________________________________\n",
      "Layer (type)                 Output Shape              Param #   \n",
      "=================================================================\n",
      "dense_14 (Dense)             (None, 512)               401920    \n",
      "_________________________________________________________________\n",
      "dropout_7 (Dropout)          (None, 512)               0         \n",
      "_________________________________________________________________\n",
      "dense_15 (Dense)             (None, 10)                5130      \n",
      "=================================================================\n",
      "Total params: 407,050\n",
      "Trainable params: 407,050\n",
      "Non-trainable params: 0\n",
      "_________________________________________________________________\n"
     ]
    }
   ],
   "source": [
    "#para cargarlo de nuevo\n",
    "new_model = keras.models.load_model('my_model.h5')\n",
    "new_model.summary()"
   ]
  },
  {
   "cell_type": "code",
   "execution_count": 19,
   "metadata": {},
   "outputs": [
    {
     "name": "stdout",
     "output_type": "stream",
     "text": [
      "1000/1000 [==============================] - 0s 158us/sample - loss: 0.4223 - accuracy: 0.8620\n",
      "Restored model, accuracy: 86.20%\n"
     ]
    }
   ],
   "source": [
    "loss, acc = new_model.evaluate(test_images, test_labels)\n",
    "print(\"Restored model, accuracy: {:5.2f}%\".format(100*acc))"
   ]
  },
  {
   "cell_type": "code",
   "execution_count": null,
   "metadata": {},
   "outputs": [],
   "source": []
  }
 ],
 "metadata": {
  "kernelspec": {
   "display_name": "Python 3",
   "language": "python",
   "name": "python3"
  },
  "language_info": {
   "codemirror_mode": {
    "name": "ipython",
    "version": 3
   },
   "file_extension": ".py",
   "mimetype": "text/x-python",
   "name": "python",
   "nbconvert_exporter": "python",
   "pygments_lexer": "ipython3",
   "version": "3.6.7"
  }
 },
 "nbformat": 4,
 "nbformat_minor": 2
}
